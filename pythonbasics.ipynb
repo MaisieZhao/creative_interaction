{
 "cells": [
  {
   "cell_type": "code",
   "execution_count": 1,
   "id": "31cfd6ad-dfe4-43c8-8a1f-91f4ba46e252",
   "metadata": {},
   "outputs": [
    {
     "data": {
      "text/plain": [
       "123"
      ]
     },
     "execution_count": 1,
     "metadata": {},
     "output_type": "execute_result"
    }
   ],
   "source": [
    "123"
   ]
  },
  {
   "cell_type": "code",
   "execution_count": 2,
   "id": "4f416e97-ed92-4e29-830c-12af3e34ac11",
   "metadata": {
    "scrolled": true
   },
   "outputs": [
    {
     "data": {
      "text/plain": [
       "int"
      ]
     },
     "execution_count": 2,
     "metadata": {},
     "output_type": "execute_result"
    }
   ],
   "source": [
    "type(123)"
   ]
  },
  {
   "cell_type": "code",
   "execution_count": 3,
   "id": "07678f4d-81be-42fe-be5f-1a4094ce3683",
   "metadata": {},
   "outputs": [
    {
     "data": {
      "text/plain": [
       "123.45"
      ]
     },
     "execution_count": 3,
     "metadata": {},
     "output_type": "execute_result"
    }
   ],
   "source": [
    "123.45"
   ]
  },
  {
   "cell_type": "code",
   "execution_count": 4,
   "id": "4cac143a-c33c-4ecb-a717-5918db87f92e",
   "metadata": {},
   "outputs": [
    {
     "data": {
      "text/plain": [
       "float"
      ]
     },
     "execution_count": 4,
     "metadata": {},
     "output_type": "execute_result"
    }
   ],
   "source": [
    "type(123.45)"
   ]
  },
  {
   "cell_type": "code",
   "execution_count": 5,
   "id": "024d4c53-0e19-479e-b624-4fe86a819673",
   "metadata": {},
   "outputs": [
    {
     "data": {
      "text/plain": [
       "str"
      ]
     },
     "execution_count": 5,
     "metadata": {},
     "output_type": "execute_result"
    }
   ],
   "source": [
    "type('123.45')"
   ]
  },
  {
   "cell_type": "code",
   "execution_count": 6,
   "id": "ae5beb90-b39b-4d62-b36d-d77df21b61ca",
   "metadata": {},
   "outputs": [
    {
     "name": "stdout",
     "output_type": "stream",
     "text": [
      "hello world!\n"
     ]
    }
   ],
   "source": [
    "print('hello world!')"
   ]
  },
  {
   "cell_type": "code",
   "execution_count": 7,
   "id": "75479a09-1d7e-442e-8613-eb0998557c9d",
   "metadata": {},
   "outputs": [
    {
     "name": "stdout",
     "output_type": "stream",
     "text": [
      "123 123.45 123.45\n",
      "<class 'int'> <class 'float'> <class 'str'>\n"
     ]
    }
   ],
   "source": [
    "x = 123\n",
    "y = 123.45\n",
    "z = '123.45'\n",
    "print(x, y, z)\n",
    "print(type(x), type(y), type(z))"
   ]
  },
  {
   "cell_type": "code",
   "execution_count": 8,
   "id": "9e5ac960-6439-4b9b-a9d5-db4f6122fc11",
   "metadata": {},
   "outputs": [
    {
     "name": "stdout",
     "output_type": "stream",
     "text": [
      "<class 'str'>\n",
      "The result of 123+123.45=246.45\n"
     ]
    }
   ],
   "source": [
    "z = 'The result of ' + str(x) + \"+\" + str(y) + \"=\" + str(x + y)\n",
    "print(type(str(y)))\n",
    "print(z)"
   ]
  },
  {
   "cell_type": "code",
   "execution_count": 9,
   "id": "6a21497a-b449-4f9e-bf3e-5ce535422003",
   "metadata": {},
   "outputs": [
    {
     "name": "stdout",
     "output_type": "stream",
     "text": [
      "I am\n"
     ]
    }
   ],
   "source": [
    "z = 'I am from CUC.'\n",
    "print(z[0:4])"
   ]
  },
  {
   "cell_type": "code",
   "execution_count": 10,
   "id": "3d783639-625a-4593-b2ce-02ced338caa6",
   "metadata": {},
   "outputs": [
    {
     "name": "stdout",
     "output_type": "stream",
     "text": [
      "I am from CUC.\n",
      "UC.\n"
     ]
    }
   ],
   "source": [
    "print(z[0:14])\n",
    "print(z[-3:])"
   ]
  },
  {
   "cell_type": "code",
   "execution_count": 11,
   "id": "1f3cf990-87fc-420e-b5e4-ace2695f52e6",
   "metadata": {},
   "outputs": [
    {
     "name": "stdout",
     "output_type": "stream",
     "text": [
      "14\n",
      "I am from CUC\n",
      "C.\n",
      "CUC\n"
     ]
    }
   ],
   "source": [
    "print(len(z))\n",
    "print(z[0:13])\n",
    "print(z[-2:])\n",
    "print(z[10:13])"
   ]
  },
  {
   "cell_type": "code",
   "execution_count": 12,
   "id": "c1f8dc59-2d9c-460d-ab1d-9a8ef7b941a8",
   "metadata": {},
   "outputs": [
    {
     "name": "stdout",
     "output_type": "stream",
     "text": [
      "Princess Diana\n",
      "Princess Diana Princess Kate\n",
      "['Princess', 'Diana']\n"
     ]
    }
   ],
   "source": [
    "famous_person = 'Princess Diana'\n",
    "print(famous_person)\n",
    "famous_person2 = famous_person.replace('Diana', 'Kate')\n",
    "print(famous_person, famous_person2)\n",
    "print(famous_person.split())"
   ]
  },
  {
   "cell_type": "code",
   "execution_count": 13,
   "id": "86a6f968-9cd9-4979-90e0-41292c450c45",
   "metadata": {},
   "outputs": [
    {
     "name": "stdout",
     "output_type": "stream",
     "text": [
      "Prince Charles\n",
      "PRINCE WILLIAM\n",
      "-1\n",
      "7\n"
     ]
    }
   ],
   "source": [
    "name = 'Prince Charles'\n",
    "print(name)\n",
    "name = name.replace('Charles', 'William')\n",
    "name = name.upper()\n",
    "print(name)\n",
    "print(name.find('Charles'))\n",
    "print(name.find('WILLIAM'))"
   ]
  },
  {
   "cell_type": "code",
   "execution_count": 14,
   "id": "d2739d6e-155c-423e-bce3-4d8194c471ed",
   "metadata": {},
   "outputs": [
    {
     "name": "stdout",
     "output_type": "stream",
     "text": [
      "3.14\n",
      "<class 'str'>\n"
     ]
    }
   ],
   "source": [
    "x = 3.14\n",
    "y = str(x)\n",
    "print(y)\n",
    "print(type(y))"
   ]
  },
  {
   "cell_type": "code",
   "execution_count": 15,
   "id": "fe09b14a-b505-4358-8cf2-121bec18b75c",
   "metadata": {},
   "outputs": [
    {
     "name": "stdout",
     "output_type": "stream",
     "text": [
      "3.14\n",
      "3\n",
      "<class 'float'> <class 'int'>\n"
     ]
    }
   ],
   "source": [
    "x = 3.14\n",
    "y = str(x)\n",
    "z1 = float(y)\n",
    "print(z1)\n",
    "z2 = int(y[0:y.find('.')])\n",
    "print(z2)\n",
    "print(type(z1), type(z2))"
   ]
  },
  {
   "cell_type": "code",
   "execution_count": 1,
   "id": "8fe315f2-37f5-4219-9385-98eb0f2bfe53",
   "metadata": {},
   "outputs": [
    {
     "name": "stdout",
     "output_type": "stream",
     "text": [
      "(1, 1.234, 2, 'cuc')\n",
      "[1, 1.234, 2, 'cuc']\n"
     ]
    }
   ],
   "source": [
    "tuple1 = (1, 1.234, 2, 'cuc')\n",
    "print(tuple1)\n",
    "list1 = [1, 1.234, 2, 'cuc']\n",
    "print(list1)"
   ]
  },
  {
   "cell_type": "code",
   "execution_count": 2,
   "id": "96a306fe-3931-4f53-8add-67d5751753cb",
   "metadata": {},
   "outputs": [
    {
     "name": "stdout",
     "output_type": "stream",
     "text": [
      "[1, 2, 3, 4, 5]\n"
     ]
    }
   ],
   "source": [
    "mylist = [1, 2, 3, 5, 4]\n",
    "print(sorted(mylist))"
   ]
  },
  {
   "cell_type": "code",
   "execution_count": 3,
   "id": "cfa6c959-0577-4f92-9467-1327c5779748",
   "metadata": {},
   "outputs": [
    {
     "name": "stdout",
     "output_type": "stream",
     "text": [
      "[93, 98, 90, 88, 73, 100]\n",
      "88\n",
      "[93, 98, 90, 88, 73, 100, 80]\n"
     ]
    }
   ],
   "source": [
    "score_list = [93, 98, 90, 88, 73, 100]\n",
    "print(score_list)\n",
    "print(score_list[3])\n",
    "score_list.append(80)\n",
    "print(score_list)"
   ]
  },
  {
   "cell_type": "code",
   "execution_count": 4,
   "id": "8c1caa1c-e208-4689-8a7c-a6e7d6a81de1",
   "metadata": {},
   "outputs": [
    {
     "name": "stdout",
     "output_type": "stream",
     "text": [
      "[88, 73, 100]\n",
      "[93, 98, 90, 88, 73, 100]\n"
     ]
    }
   ],
   "source": [
    "del(score_list[-1])\n",
    "print(score_list[3:7])\n",
    "print(score_list)"
   ]
  },
  {
   "cell_type": "code",
   "execution_count": 5,
   "id": "1b589747-9b88-4bce-83e3-c814eb84bf30",
   "metadata": {},
   "outputs": [
    {
     "name": "stdout",
     "output_type": "stream",
     "text": [
      "[93, 98, 90, 88, 73, 100, [1, 2, 3, 'I am from China', True]]\n"
     ]
    }
   ],
   "source": [
    "score_list.append([1, 2, 3, 'I am from China', True])\n",
    "print(score_list)"
   ]
  },
  {
   "cell_type": "code",
   "execution_count": 6,
   "id": "5358e9eb-68d3-4f33-bdf9-79c29a7f4846",
   "metadata": {},
   "outputs": [
    {
     "name": "stdout",
     "output_type": "stream",
     "text": [
      "[93, 98, 90, 88, 73, 100, [1, 2, 3, 'I am from China', True], [11, 22, 33, [44, 55, 66]]]\n"
     ]
    }
   ],
   "source": [
    "second_list = [11, 22, 33]\n",
    "second_list.append([44, 55, 66])\n",
    "score_list.append(second_list)\n",
    "print(score_list)"
   ]
  },
  {
   "cell_type": "code",
   "execution_count": 7,
   "id": "d2422852-59e1-4123-9d04-ae1fdccd0572",
   "metadata": {},
   "outputs": [
    {
     "name": "stdout",
     "output_type": "stream",
     "text": [
      "[93, 98, 90, 88, 73, [1, 2, 3, 'I am from China', True], [11, 22, 33, [44, 55, 66]]]\n"
     ]
    }
   ],
   "source": [
    "score_list.remove(100)\n",
    "print(score_list)"
   ]
  },
  {
   "cell_type": "code",
   "execution_count": 8,
   "id": "097053a1-befa-4dce-8ba0-48833ebfbeb6",
   "metadata": {},
   "outputs": [
    {
     "name": "stdout",
     "output_type": "stream",
     "text": [
      "{'Peter': 80, 'David': 90, 'Mary': 100}\n",
      "dict_keys(['Peter', 'David', 'Mary'])\n",
      "dict_values([80, 90, 100])\n",
      "90\n",
      "[{'Peter': 80, 'David': 90, 'Mary': 100}]\n"
     ]
    }
   ],
   "source": [
    "dict1 = {'Peter': 80, 'David': 90, 'Mary':100}\n",
    "print(dict1)\n",
    "print(dict1.keys())\n",
    "print(dict1.values())\n",
    "print(dict1['David'])\n",
    "score_list = []\n",
    "score_list.append(dict1)\n",
    "print(score_list)"
   ]
  },
  {
   "cell_type": "code",
   "execution_count": 9,
   "id": "847a1284-5417-4557-905f-748f7e0ad4f3",
   "metadata": {},
   "outputs": [
    {
     "name": "stdout",
     "output_type": "stream",
     "text": [
      "[{'Peter': 50, 'David': 60, 'Mary': 70}, {'Peter': 50, 'David': 70, 'Mary': 80}]\n"
     ]
    }
   ],
   "source": [
    "test1 = {'Peter': 50, 'David': 60, 'Mary': 70}\n",
    "assignment1 = {'Peter': 50, 'David': 70, 'Mary': 80}\n",
    "score_list = []\n",
    "score_list.append(test1)\n",
    "score_list.append(assignment1)\n",
    "print(score_list)"
   ]
  },
  {
   "cell_type": "code",
   "execution_count": 10,
   "id": "9eb352d0-9e69-4ed5-ac95-e2ed18b10d84",
   "metadata": {},
   "outputs": [
    {
     "name": "stdout",
     "output_type": "stream",
     "text": [
      "{1, (1, 2, 3), 'Hello'}\n",
      "<class 'set'>\n"
     ]
    }
   ],
   "source": [
    "my_set = {1, 'Hello', (1, 2, 3)}\n",
    "print(my_set)\n",
    "print(type(my_set))"
   ]
  },
  {
   "cell_type": "code",
   "execution_count": 11,
   "id": "a8241dd5-df69-4f69-a4c7-56a29017c156",
   "metadata": {},
   "outputs": [
    {
     "name": "stdout",
     "output_type": "stream",
     "text": [
      "{1, 2, 3, 4, 5}\n"
     ]
    }
   ],
   "source": [
    "my_set = {1, 2, 2, 3, 4, 4, 5}\n",
    "print(my_set)"
   ]
  },
  {
   "cell_type": "code",
   "execution_count": 12,
   "id": "44fb6475-5e96-413e-b064-93fd7c0d845e",
   "metadata": {},
   "outputs": [
    {
     "name": "stdout",
     "output_type": "stream",
     "text": [
      "1\n",
      "2\n",
      "3\n",
      "4\n",
      "5\n",
      "6\n",
      "7\n",
      "8\n",
      "9\n"
     ]
    }
   ],
   "source": [
    "i = 1\n",
    "for i in range(1, 10):\n",
    "    print(i)"
   ]
  },
  {
   "cell_type": "code",
   "execution_count": 13,
   "id": "66d5919b-c8eb-4061-89ac-7cc0cfa6c4b8",
   "metadata": {},
   "outputs": [
    {
     "name": "stdout",
     "output_type": "stream",
     "text": [
      "John makes 1950.\n",
      "Mike makes 3000.\n",
      "Mary makes 3250.\n",
      "Jane makes 4500.\n"
     ]
    }
   ],
   "source": [
    "hrs_list = [30, 40, 50, 60]\n",
    "rate_list = [65, 75, 65, 75]\n",
    "name_list = ['John', 'Mike', 'Mary', 'Jane']\n",
    "fee_list = []\n",
    "for number in range(len(name_list)):\n",
    "    hrs = hrs_list[number]\n",
    "    rate = rate_list[number]\n",
    "    fee = hrs * rate\n",
    "    fee_list.append(fee)\n",
    "    money_made = name_list[number] + ' makes ' + str(fee) + '.'\n",
    "    print(money_made)"
   ]
  },
  {
   "cell_type": "code",
   "execution_count": 14,
   "id": "3b24f816-7508-4a4a-8f6a-80e76497d4c8",
   "metadata": {},
   "outputs": [
    {
     "name": "stdout",
     "output_type": "stream",
     "text": [
      "[['John', 'Mike', 'Mary', 'Jane'], [1950, 3000, 3250, 4500]]\n"
     ]
    }
   ],
   "source": [
    "money_list = []\n",
    "money_list.append(name_list)\n",
    "money_list.append(fee_list)\n",
    "print(money_list)"
   ]
  },
  {
   "cell_type": "code",
   "execution_count": 15,
   "id": "d09006fd-c27c-401c-b40d-bdf48809a683",
   "metadata": {
    "scrolled": true
   },
   "outputs": [
    {
     "name": "stdout",
     "output_type": "stream",
     "text": [
      "0 red\n",
      "1 green\n",
      "2 Blue is printed.\n",
      "3 orange\n",
      "4 black\n",
      "This is done.\n"
     ]
    }
   ],
   "source": [
    "my_list = ['red', 'green', 'blue', 'orange', 'black']\n",
    "index = 0\n",
    "for i in my_list:\n",
    "    if i == 'blue':\n",
    "        print(index, 'Blue is printed.')\n",
    "        index +=1\n",
    "    else:\n",
    "        print(index, my_list[index])\n",
    "        index = index + 1\n",
    "print('This is done.')"
   ]
  },
  {
   "cell_type": "code",
   "execution_count": 16,
   "id": "f96edc8d-1599-4cd4-998b-82581323f43b",
   "metadata": {},
   "outputs": [
    {
     "name": "stdout",
     "output_type": "stream",
     "text": [
      "   Product ID Product Name   Color  Units Sold\n",
      "0           1      T-shirt    Blue         250\n",
      "1           2        Shirt   Green         300\n",
      "2           3        Jeans     Red         180\n",
      "3           4         Coat  Trench         200\n"
     ]
    }
   ],
   "source": [
    "import pandas as pd\n",
    "df1 = pd.DataFrame({\n",
    "    #Define dataframe as a dictionary object\n",
    "    'Product ID': [1, 2, 3, 4],\n",
    "    #Add product name and color\n",
    "    'Product Name': ['T-shirt', 'Shirt', 'Jeans', 'Coat'],\n",
    "    'Color': ['Blue', 'Green', 'Red', 'Trench'],\n",
    "    'Units Sold': [250, 300, 180, 200]\n",
    "})\n",
    "print(df1)"
   ]
  },
  {
   "cell_type": "code",
   "execution_count": null,
   "id": "99ed7de6-28f0-4d57-a299-0e535f34250c",
   "metadata": {},
   "outputs": [],
   "source": []
  },
  {
   "cell_type": "code",
   "execution_count": null,
   "id": "10612c5e-5e32-488f-bce0-13df5891f18d",
   "metadata": {},
   "outputs": [],
   "source": []
  }
 ],
 "metadata": {
  "kernelspec": {
   "display_name": "Python 3 (ipykernel)",
   "language": "python",
   "name": "python3"
  },
  "language_info": {
   "codemirror_mode": {
    "name": "ipython",
    "version": 3
   },
   "file_extension": ".py",
   "mimetype": "text/x-python",
   "name": "python",
   "nbconvert_exporter": "python",
   "pygments_lexer": "ipython3",
   "version": "3.11.7"
  }
 },
 "nbformat": 4,
 "nbformat_minor": 5
}
